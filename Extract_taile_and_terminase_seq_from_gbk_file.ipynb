{
  "cells": [
    {
      "cell_type": "markdown",
      "id": "ff06575a-ce06-47e1-bc39-3043caa94b6a",
      "metadata": {
        "id": "ff06575a-ce06-47e1-bc39-3043caa94b6a"
      },
      "source": [
        "## **Library** ##"
      ]
    },
    {
      "cell_type": "code",
      "execution_count": null,
      "id": "5353b016-8720-401e-a39c-9ddb06b5e559",
      "metadata": {
        "id": "5353b016-8720-401e-a39c-9ddb06b5e559"
      },
      "outputs": [],
      "source": [
        "from Bio import SeqIO\n",
        "from Bio.Seq import translate\n",
        "import os"
      ]
    },
    {
      "cell_type": "markdown",
      "id": "38f922de-22b5-4a42-8340-9f773a75a68f",
      "metadata": {
        "id": "38f922de-22b5-4a42-8340-9f773a75a68f"
      },
      "source": [
        "## **All GBK Files** ##"
      ]
    },
    {
      "cell_type": "code",
      "execution_count": null,
      "id": "9d16b59a-f406-4a46-9b2a-8b5470021223",
      "metadata": {
        "id": "9d16b59a-f406-4a46-9b2a-8b5470021223"
      },
      "outputs": [],
      "source": [
        "input_dir_gbk = \"/media/preonath/Pharokka_result_gbk_files\"\n",
        "gbk_files = [f for f in os.listdir(input_dir_gbk) if f.endswith(\".gbk\")]\n",
        "print(gbk_files)"
      ]
    },
    {
      "cell_type": "markdown",
      "id": "c7fbb43a-c744-4ec3-a731-83dc184bc78d",
      "metadata": {
        "id": "c7fbb43a-c744-4ec3-a731-83dc184bc78d"
      },
      "source": [
        "## **Extract translation seq of tail fiber protein Gene** ##"
      ]
    },
    {
      "cell_type": "code",
      "execution_count": null,
      "id": "6429867e-0603-4b8d-9f4a-e801ab054068",
      "metadata": {
        "collapsed": true,
        "jupyter": {
          "outputs_hidden": true
        },
        "tags": [],
        "id": "6429867e-0603-4b8d-9f4a-e801ab054068"
      },
      "outputs": [],
      "source": [
        "def extract_translation_seq_of_tail_fiber_gene(input_dir_gbk, gbk_files):\n",
        "    gbk_dic_tail = {}\n",
        "    for gbk_file in gbk_files:\n",
        "        file_path = os.path.join(input_dir_gbk, gbk_file)\n",
        "        file_name = os.path.basename(file_path)\n",
        "        phage_name = os.path.splitext(file_name)[0].split('_pharokka')[0]\n",
        "\n",
        "        for rec in SeqIO.parse(file_path, \"gb\"):\n",
        "            for feature in rec.features:\n",
        "                # print(feature)\n",
        "                for key, val in feature.qualifiers.items():\n",
        "                    if \"tail fiber protein\" in val:\n",
        "                        translation_str=str(feature.qualifiers['translation'])\n",
        "                        # print(translation_str)\n",
        "\n",
        "#                         # Add phage_name and its start and end position as a tuple to the gbk_dic dictionary\n",
        "                        gbk_dic_tail[phage_name] = (translation_str)\n",
        "\n",
        "    gbk_dic_tail_keys_sorted = sorted(list(gbk_dic_tail.keys()))\n",
        "    gbk_dic_tail_keys_sorted_dict = {i:gbk_dic_tail[i] for i in gbk_dic_tail_keys_sorted}\n",
        "\n",
        "    return(gbk_dic_tail_keys_sorted_dict)\n",
        "\n",
        "extract_translation_seq_of_tail_fiber_gene(input_dir_gbk, gbk_files)"
      ]
    },
    {
      "cell_type": "markdown",
      "id": "687b8b91-80d0-48ef-adb1-326dcabd8e58",
      "metadata": {
        "id": "687b8b91-80d0-48ef-adb1-326dcabd8e58"
      },
      "source": [
        "## **Extract translation seq of terminase large subunit Gene** ##"
      ]
    },
    {
      "cell_type": "code",
      "execution_count": null,
      "id": "b64d7095-622b-4627-bc8a-df1876e4ff9f",
      "metadata": {
        "tags": [],
        "id": "b64d7095-622b-4627-bc8a-df1876e4ff9f"
      },
      "outputs": [],
      "source": [
        "def extract_translation_seq_of_terminase_gene(input_dir_gbk, gbk_files):\n",
        "    gbk_dic_terminase = {}\n",
        "    for gbk_file in gbk_files:\n",
        "        file_path = os.path.join(input_dir_gbk, gbk_file)\n",
        "        file_name = os.path.basename(file_path)\n",
        "        phage_name = os.path.splitext(file_name)[0].split('_pharokka')[0]\n",
        "\n",
        "        for rec in SeqIO.parse(file_path, \"gb\"):\n",
        "            for feature in rec.features:\n",
        "                for key, val in feature.qualifiers.items():\n",
        "                    if \"terminase large subunit\" in val:\n",
        "\n",
        "                        translation_str=str(feature.qualifiers['translation'])\n",
        "                        # print(translation_str)\n",
        "\n",
        "                        # Add phage_name and its start and end position as a tuple to the gbk_dic dictionary\n",
        "                        gbk_dic_terminase[phage_name] = (translation_str)\n",
        "\n",
        "    gbk_dic_terminase_keys_sorted = sorted(list(gbk_dic_terminase.keys()))\n",
        "    gbk_dic_terminase_keys_sorted_dict = {i:gbk_dic_terminase[i] for i in gbk_dic_terminase_keys_sorted}\n",
        "\n",
        "    return(gbk_dic_terminase_keys_sorted_dict)\n",
        "\n",
        "\n",
        "extract_translation_seq_of_terminase_gene(input_dir_gbk, gbk_files)"
      ]
    },
    {
      "cell_type": "markdown",
      "id": "559b9a43-73e4-4530-9345-ec95cd6c07de",
      "metadata": {
        "id": "559b9a43-73e4-4530-9345-ec95cd6c07de"
      },
      "source": [
        "## **Join Tail fiber and Terminase Sequence** ##"
      ]
    },
    {
      "cell_type": "code",
      "execution_count": null,
      "id": "18d70d4b-6327-4410-947e-a4bf955d316e",
      "metadata": {
        "id": "18d70d4b-6327-4410-947e-a4bf955d316e"
      },
      "outputs": [],
      "source": [
        "def join_tail_sequence_terminase_sequence(input_dir_gbk, gbk_files,output_file):\n",
        "    tail_sequence_subseq_dict = extract_translation_seq_of_tail_fiber_gene(input_dir_gbk, gbk_files)\n",
        "    terminase_sequence_subseq_dict = extract_translation_seq_of_terminase_gene(input_dir_gbk, gbk_files)\n",
        "    joint_dict = {}\n",
        "    for phage_name in tail_sequence_subseq_dict.keys() & terminase_sequence_subseq_dict.keys():\n",
        "        joint_dict[\">\"+phage_name] = f\"{tail_sequence_subseq_dict[phage_name]}{terminase_sequence_subseq_dict[phage_name]}\"\n",
        "    with open(output_file, 'w') as f:\n",
        "        for phage_id, sequence in sorted(joint_dict.items()):\n",
        "            f.write(f\"{phage_id}\\n\\n{sequence}\\n\\n\".replace(\"[\",\"\").replace(\"]\",\"\").replace(\"'\",\"\"))\n",
        "\n",
        "join_tail_sequence_terminase_sequence(input_dir_gbk, gbk_files,\"join_tail_sequence_terminase_sequence.fa\")\n"
      ]
    }
  ],
  "metadata": {
    "kernelspec": {
      "display_name": "Python 3 (ipykernel)",
      "language": "python",
      "name": "python3"
    },
    "language_info": {
      "codemirror_mode": {
        "name": "ipython",
        "version": 3
      },
      "file_extension": ".py",
      "mimetype": "text/x-python",
      "name": "python",
      "nbconvert_exporter": "python",
      "pygments_lexer": "ipython3",
      "version": "3.8.16"
    },
    "colab": {
      "provenance": []
    }
  },
  "nbformat": 4,
  "nbformat_minor": 5
}